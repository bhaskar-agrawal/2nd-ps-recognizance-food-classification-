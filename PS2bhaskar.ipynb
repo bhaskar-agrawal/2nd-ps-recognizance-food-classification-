{
  "nbformat": 4,
  "nbformat_minor": 0,
  "metadata": {
    "colab": {
      "name": "PS2bhaskar.ipynb",
      "provenance": [],
      "collapsed_sections": [],
      "machine_shape": "hm"
    },
    "kernelspec": {
      "name": "python3",
      "display_name": "Python 3"
    }
  },
  "cells": [
    {
      "cell_type": "code",
      "metadata": {
        "id": "HiaM_FL72h4T",
        "colab_type": "code",
        "outputId": "68e90b2c-8f55-4da4-ef5f-5f89762a56a3",
        "colab": {
          "base_uri": "https://localhost:8080/",
          "height": 125
        }
      },
      "source": [
        "from google.colab import drive\n",
        "drive.mount('/content/drive')"
      ],
      "execution_count": 0,
      "outputs": [
        {
          "output_type": "stream",
          "text": [
            "Go to this URL in a browser: https://accounts.google.com/o/oauth2/auth?client_id=947318989803-6bn6qk8qdgf4n4g3pfee6491hc0brc4i.apps.googleusercontent.com&redirect_uri=urn%3aietf%3awg%3aoauth%3a2.0%3aoob&response_type=code&scope=email%20https%3a%2f%2fwww.googleapis.com%2fauth%2fdocs.test%20https%3a%2f%2fwww.googleapis.com%2fauth%2fdrive%20https%3a%2f%2fwww.googleapis.com%2fauth%2fdrive.photos.readonly%20https%3a%2f%2fwww.googleapis.com%2fauth%2fpeopleapi.readonly\n",
            "\n",
            "Enter your authorization code:\n",
            "··········\n",
            "Mounted at /content/drive\n"
          ],
          "name": "stdout"
        }
      ]
    },
    {
      "cell_type": "code",
      "metadata": {
        "id": "LeZb9DeQ21mz",
        "colab_type": "code",
        "colab": {}
      },
      "source": [
        "import numpy as np\n",
        "import matplotlib.pyplot as plt\n",
        "import pandas as pd\n",
        "import cv2"
      ],
      "execution_count": 0,
      "outputs": []
    },
    {
      "cell_type": "code",
      "metadata": {
        "id": "7lkVOWEo2k_L",
        "colab_type": "code",
        "colab": {}
      },
      "source": [
        "A,Y=np.load('/content/drive/My Drive/recognizance2/X.npy'),np.load('/content/drive/My Drive/recognizance2/Y.npy')\n"
      ],
      "execution_count": 0,
      "outputs": []
    },
    {
      "cell_type": "code",
      "metadata": {
        "id": "0TXsJQ52zl45",
        "colab_type": "code",
        "outputId": "9c24d7dc-1dcc-4639-9d33-67da7c75369f",
        "colab": {
          "base_uri": "https://localhost:8080/",
          "height": 34
        }
      },
      "source": [
        "A.shape"
      ],
      "execution_count": 0,
      "outputs": [
        {
          "output_type": "execute_result",
          "data": {
            "text/plain": [
              "(1659, 256, 256, 3)"
            ]
          },
          "metadata": {
            "tags": []
          },
          "execution_count": 8
        }
      ]
    },
    {
      "cell_type": "code",
      "metadata": {
        "id": "wohYA5Cs0P5e",
        "colab_type": "code",
        "colab": {}
      },
      "source": [
        "from google.colab.patches import cv2_imshow"
      ],
      "execution_count": 0,
      "outputs": []
    },
    {
      "cell_type": "code",
      "metadata": {
        "id": "ZPHFoYmW0A9G",
        "colab_type": "code",
        "outputId": "0d4a1d35-741f-4cd4-c89c-3e79fea08a76",
        "colab": {
          "base_uri": "https://localhost:8080/",
          "height": 113
        }
      },
      "source": [
        "cv2_imshow(X[0])"
      ],
      "execution_count": 0,
      "outputs": [
        {
          "output_type": "display_data",
          "data": {
            "image/png": "[encoded data removed]",
            "text/plain": [
              "<PIL.Image.Image image mode=RGB size=96x96 at 0x7F3E76B04208>"
            ]
          },
          "metadata": {
            "tags": []
          }
        }
      ]
    },
    {
      "cell_type": "code",
      "metadata": {
        "id": "H7gGbwVExJAG",
        "colab_type": "code",
        "colab": {}
      },
      "source": [
        "X=[]\n",
        "for i in range(1659):\n",
        "  im1=cv2.resize(A[i],(96,96),interpolation = cv2.INTER_AREA)\n",
        "  X.append(im1)\n"
      ],
      "execution_count": 0,
      "outputs": []
    },
    {
      "cell_type": "code",
      "metadata": {
        "id": "YeZy9k1p0qcW",
        "colab_type": "code",
        "colab": {}
      },
      "source": [
        "X=np.array(X)"
      ],
      "execution_count": 0,
      "outputs": []
    },
    {
      "cell_type": "code",
      "metadata": {
        "id": "Z5N17jQ520CF",
        "colab_type": "code",
        "outputId": "243a319b-da3f-4ce1-ae4f-ce18972729e8",
        "colab": {
          "base_uri": "https://localhost:8080/",
          "height": 34
        }
      },
      "source": [
        "X.shape"
      ],
      "execution_count": 0,
      "outputs": [
        {
          "output_type": "execute_result",
          "data": {
            "text/plain": [
              "(1659, 96, 96, 3)"
            ]
          },
          "metadata": {
            "tags": []
          },
          "execution_count": 25
        }
      ]
    },
    {
      "cell_type": "code",
      "metadata": {
        "id": "qRFlFy4j3OHp",
        "colab_type": "code",
        "outputId": "0a6eed6e-a292-412d-af3e-8aa717d9eb04",
        "colab": {
          "base_uri": "https://localhost:8080/",
          "height": 113
        }
      },
      "source": [
        "cv2_imshow(X[0])"
      ],
      "execution_count": 0,
      "outputs": [
        {
          "output_type": "display_data",
          "data": {
            "image/png": "[encoded data removed]",
            "text/plain": [
              "<PIL.Image.Image image mode=RGB size=96x96 at 0x7F3E74DD9EF0>"
            ]
          },
          "metadata": {
            "tags": []
          }
        }
      ]
    },
    {
      "cell_type": "code",
      "metadata": {
        "id": "dgLN_i-R3PkC",
        "colab_type": "code",
        "outputId": "5fd4bafd-277f-4fa0-b3f5-1146fc08e3cd",
        "colab": {
          "base_uri": "https://localhost:8080/",
          "height": 34
        }
      },
      "source": [
        "X[0].shape"
      ],
      "execution_count": 0,
      "outputs": [
        {
          "output_type": "execute_result",
          "data": {
            "text/plain": [
              "(96, 96, 3)"
            ]
          },
          "metadata": {
            "tags": []
          },
          "execution_count": 28
        }
      ]
    },
    {
      "cell_type": "code",
      "metadata": {
        "id": "O4EGce-o3wu7",
        "colab_type": "code",
        "colab": {}
      },
      "source": [
        "(unique, counts) = np.unique(Y, return_counts=True)\n",
        "frequencies = np.asarray((unique, counts)).T\n"
      ],
      "execution_count": 0,
      "outputs": []
    },
    {
      "cell_type": "code",
      "metadata": {
        "id": "9Y9DKKtD4JVp",
        "colab_type": "code",
        "outputId": "fce93e48-9f15-467a-9866-9adb74c0b4da",
        "colab": {
          "base_uri": "https://localhost:8080/",
          "height": 105
        }
      },
      "source": [
        "frequencies"
      ],
      "execution_count": 0,
      "outputs": [
        {
          "output_type": "execute_result",
          "data": {
            "text/plain": [
              "array([[  0, 362],\n",
              "       [  1, 144],\n",
              "       [  2, 500],\n",
              "       [  3, 327],\n",
              "       [  4, 326]])"
            ]
          },
          "metadata": {
            "tags": []
          },
          "execution_count": 30
        }
      ]
    },
    {
      "cell_type": "code",
      "metadata": {
        "id": "Qd6eS1_h4SZZ",
        "colab_type": "code",
        "outputId": "c11e1d75-e921-4b03-8bd6-00a9c56f7bcb",
        "colab": {
          "base_uri": "https://localhost:8080/",
          "height": 194
        }
      },
      "source": [
        "print(Y[0:362])"
      ],
      "execution_count": 0,
      "outputs": [
        {
          "output_type": "stream",
          "text": [
            "[0 0 0 0 0 0 0 0 0 0 0 0 0 0 0 0 0 0 0 0 0 0 0 0 0 0 0 0 0 0 0 0 0 0 0 0 0\n",
            " 0 0 0 0 0 0 0 0 0 0 0 0 0 0 0 0 0 0 0 0 0 0 0 0 0 0 0 0 0 0 0 0 0 0 0 0 0\n",
            " 0 0 0 0 0 0 0 0 0 0 0 0 0 0 0 0 0 0 0 0 0 0 0 0 0 0 0 0 0 0 0 0 0 0 0 0 0\n",
            " 0 0 0 0 0 0 0 0 0 0 0 0 0 0 0 0 0 0 0 0 0 0 0 0 0 0 0 0 0 0 0 0 0 0 0 0 0\n",
            " 0 0 0 0 0 0 0 0 0 0 0 0 0 0 0 0 0 0 0 0 0 0 0 0 0 0 0 0 0 0 0 0 0 0 0 0 0\n",
            " 0 0 0 0 0 0 0 0 0 0 0 0 0 0 0 0 0 0 0 0 0 0 0 0 0 0 0 0 0 0 0 0 0 0 0 0 0\n",
            " 0 0 0 0 0 0 0 0 0 0 0 0 0 0 0 0 0 0 0 0 0 0 0 0 0 0 0 0 0 0 0 0 0 0 0 0 0\n",
            " 0 0 0 0 0 0 0 0 0 0 0 0 0 0 0 0 0 0 0 0 0 0 0 0 0 0 0 0 0 0 0 0 0 0 0 0 0\n",
            " 0 0 0 0 0 0 0 0 0 0 0 0 0 0 0 0 0 0 0 0 0 0 0 0 0 0 0 0 0 0 0 0 0 0 0 0 0\n",
            " 0 0 0 0 0 0 0 0 0 0 0 0 0 0 0 0 0 0 0 0 0 0 0 0 0 0 0 0 0]\n"
          ],
          "name": "stdout"
        }
      ]
    },
    {
      "cell_type": "code",
      "metadata": {
        "id": "OK_V--bF4_iZ",
        "colab_type": "code",
        "outputId": "5e171c70-370a-4771-8c65-a36018b60905",
        "colab": {
          "base_uri": "https://localhost:8080/",
          "height": 34
        }
      },
      "source": [
        "from keras.preprocessing.image import ImageDataGenerator, array_to_img, img_to_array, load_img\n",
        "import cv2\n",
        "import os\n",
        "import pandas as pd\n",
        "import glob"
      ],
      "execution_count": 0,
      "outputs": [
        {
          "output_type": "stream",
          "text": [
            "Using TensorFlow backend.\n"
          ],
          "name": "stderr"
        }
      ]
    },
    {
      "cell_type": "code",
      "metadata": {
        "id": "nrVCO8rz4YMY",
        "colab_type": "code",
        "colab": {}
      },
      "source": [
        "datagen = ImageDataGenerator(\n",
        "        rotation_range=20,\n",
        "        width_shift_range=0.2,\n",
        "        height_shift_range=0.2,\n",
        "        shear_range=0.2,\n",
        "        zoom_range=0.2,\n",
        "        horizontal_flip=True,\n",
        "        fill_mode='nearest')\n"
      ],
      "execution_count": 0,
      "outputs": []
    },
    {
      "cell_type": "code",
      "metadata": {
        "id": "3rtYt9DS46gx",
        "colab_type": "code",
        "colab": {}
      },
      "source": [
        "X_new=[]\n",
        "Y_new=[]"
      ],
      "execution_count": 0,
      "outputs": []
    },
    {
      "cell_type": "code",
      "metadata": {
        "id": "130FLWGi5ZLp",
        "colab_type": "code",
        "outputId": "7216d790-99ad-4671-9186-4064cb057164",
        "colab": {
          "base_uri": "https://localhost:8080/",
          "height": 34
        }
      },
      "source": [
        "print(len(X_new))"
      ],
      "execution_count": 0,
      "outputs": [
        {
          "output_type": "stream",
          "text": [
            "0\n"
          ],
          "name": "stdout"
        }
      ]
    },
    {
      "cell_type": "code",
      "metadata": {
        "id": "v_yl_YbI9VSK",
        "colab_type": "code",
        "colab": {}
      },
      "source": [
        "for i in range(1900):\n",
        "   it=datagen.flow(X[0:362], batch_size=1)\n",
        "   batch=it.next()\n",
        "   X_new.append(batch[0])\n",
        "   Y_new.append(0)\n",
        "     \n"
      ],
      "execution_count": 0,
      "outputs": []
    },
    {
      "cell_type": "code",
      "metadata": {
        "id": "UmnqNMaI2mN3",
        "colab_type": "code",
        "colab": {}
      },
      "source": [
        "for i in range(2000):\n",
        "   it=datagen.flow(X[362:506], batch_size=1)\n",
        "   batch=it.next()\n",
        "   X_new.append(batch[0])\n",
        "   Y_new.append(1)\n",
        "    \n"
      ],
      "execution_count": 0,
      "outputs": []
    },
    {
      "cell_type": "code",
      "metadata": {
        "id": "nowcl9O12mTR",
        "colab_type": "code",
        "colab": {}
      },
      "source": [
        "for i in range(2000):\n",
        "   it=datagen.flow(X[506:1006], batch_size=1)\n",
        "   batch=it.next()\n",
        "   X_new.append(batch[0])\n",
        "   Y_new.append(2)\n",
        "     \n"
      ],
      "execution_count": 0,
      "outputs": []
    },
    {
      "cell_type": "code",
      "metadata": {
        "id": "6sMOhWDg2mc6",
        "colab_type": "code",
        "colab": {}
      },
      "source": [
        "for i in range(1950):\n",
        "   it=datagen.flow(X[1006:1006+327], batch_size=1)\n",
        "   batch=it.next()\n",
        "   X_new.append(batch[0])\n",
        "   Y_new.append(3)\n",
        "     \n"
      ],
      "execution_count": 0,
      "outputs": []
    },
    {
      "cell_type": "code",
      "metadata": {
        "id": "cHAq2jUJ2sSJ",
        "colab_type": "code",
        "colab": {}
      },
      "source": [
        "for i in range(1950):\n",
        "   it=datagen.flow(X[1333:1333+326], batch_size=1)\n",
        "   batch=it.next()\n",
        "   X_new.append(batch[0])\n",
        "   Y_new.append(4)\n",
        "     "
      ],
      "execution_count": 0,
      "outputs": []
    },
    {
      "cell_type": "code",
      "metadata": {
        "id": "XIO6dqqT-fsQ",
        "colab_type": "code",
        "outputId": "32b96d2b-af29-424d-c83b-fae68c97f7ff",
        "colab": {
          "base_uri": "https://localhost:8080/",
          "height": 283
        }
      },
      "source": [
        "Y[1332:1333+327]"
      ],
      "execution_count": 0,
      "outputs": [
        {
          "output_type": "execute_result",
          "data": {
            "text/plain": [
              "array([3, 4, 4, 4, 4, 4, 4, 4, 4, 4, 4, 4, 4, 4, 4, 4, 4, 4, 4, 4, 4, 4,\n",
              "       4, 4, 4, 4, 4, 4, 4, 4, 4, 4, 4, 4, 4, 4, 4, 4, 4, 4, 4, 4, 4, 4,\n",
              "       4, 4, 4, 4, 4, 4, 4, 4, 4, 4, 4, 4, 4, 4, 4, 4, 4, 4, 4, 4, 4, 4,\n",
              "       4, 4, 4, 4, 4, 4, 4, 4, 4, 4, 4, 4, 4, 4, 4, 4, 4, 4, 4, 4, 4, 4,\n",
              "       4, 4, 4, 4, 4, 4, 4, 4, 4, 4, 4, 4, 4, 4, 4, 4, 4, 4, 4, 4, 4, 4,\n",
              "       4, 4, 4, 4, 4, 4, 4, 4, 4, 4, 4, 4, 4, 4, 4, 4, 4, 4, 4, 4, 4, 4,\n",
              "       4, 4, 4, 4, 4, 4, 4, 4, 4, 4, 4, 4, 4, 4, 4, 4, 4, 4, 4, 4, 4, 4,\n",
              "       4, 4, 4, 4, 4, 4, 4, 4, 4, 4, 4, 4, 4, 4, 4, 4, 4, 4, 4, 4, 4, 4,\n",
              "       4, 4, 4, 4, 4, 4, 4, 4, 4, 4, 4, 4, 4, 4, 4, 4, 4, 4, 4, 4, 4, 4,\n",
              "       4, 4, 4, 4, 4, 4, 4, 4, 4, 4, 4, 4, 4, 4, 4, 4, 4, 4, 4, 4, 4, 4,\n",
              "       4, 4, 4, 4, 4, 4, 4, 4, 4, 4, 4, 4, 4, 4, 4, 4, 4, 4, 4, 4, 4, 4,\n",
              "       4, 4, 4, 4, 4, 4, 4, 4, 4, 4, 4, 4, 4, 4, 4, 4, 4, 4, 4, 4, 4, 4,\n",
              "       4, 4, 4, 4, 4, 4, 4, 4, 4, 4, 4, 4, 4, 4, 4, 4, 4, 4, 4, 4, 4, 4,\n",
              "       4, 4, 4, 4, 4, 4, 4, 4, 4, 4, 4, 4, 4, 4, 4, 4, 4, 4, 4, 4, 4, 4,\n",
              "       4, 4, 4, 4, 4, 4, 4, 4, 4, 4, 4, 4, 4, 4, 4, 4, 4, 4, 4])"
            ]
          },
          "metadata": {
            "tags": []
          },
          "execution_count": 41
        }
      ]
    },
    {
      "cell_type": "code",
      "metadata": {
        "id": "wVJ1o-ExyTPm",
        "colab_type": "code",
        "outputId": "cf90cea4-6fac-4e4a-9388-990a645aff47",
        "colab": {
          "base_uri": "https://localhost:8080/",
          "height": 131
        }
      },
      "source": [
        "cv2_imshow(X_new[9000])\n",
        "print(len(Y_new))"
      ],
      "execution_count": 0,
      "outputs": [
        {
          "output_type": "display_data",
          "data": {
            "image/png": "[encoded data removed]",
            "text/plain": [
              "<PIL.Image.Image image mode=RGB size=96x96 at 0x7F3E32C634E0>"
            ]
          },
          "metadata": {
            "tags": []
          }
        },
        {
          "output_type": "stream",
          "text": [
            "9800\n"
          ],
          "name": "stdout"
        }
      ]
    },
    {
      "cell_type": "code",
      "metadata": {
        "id": "b-UXRsyf-jXu",
        "colab_type": "code",
        "outputId": "b63a106e-dc5c-4fe4-9dd5-e4a911fe397f",
        "colab": {
          "base_uri": "https://localhost:8080/",
          "height": 34
        }
      },
      "source": [
        "print(X_new[ 55].shape)"
      ],
      "execution_count": 0,
      "outputs": [
        {
          "output_type": "stream",
          "text": [
            "(96, 96, 3)\n"
          ],
          "name": "stdout"
        }
      ]
    },
    {
      "cell_type": "code",
      "metadata": {
        "id": "617c8xIMAvvC",
        "colab_type": "code",
        "colab": {}
      },
      "source": [
        "X_n= np.array(X_new)\n",
        "y_n=np.array(Y_new)\n"
      ],
      "execution_count": 0,
      "outputs": []
    },
    {
      "cell_type": "code",
      "metadata": {
        "id": "DmsLV_xdweHt",
        "colab_type": "code",
        "colab": {}
      },
      "source": [
        "\"\"\"CREATING A MODEL SIMILAR TO VGG NET\"\"\""
      ],
      "execution_count": 0,
      "outputs": []
    },
    {
      "cell_type": "code",
      "metadata": {
        "id": "Q-vVNTvJwEJ9",
        "colab_type": "code",
        "colab": {}
      },
      "source": [
        "from keras.preprocessing.image import ImageDataGenerator\n",
        "from keras.optimizers import Adam\n",
        "\n",
        "# construct the image generator for data augmentation\n",
        "aug = ImageDataGenerator(rotation_range=25, width_shift_range=0.1,\n",
        "\theight_shift_range=0.1, shear_range=0.2, zoom_range=0.2,\n",
        "\thorizontal_flip=True, fill_mode=\"nearest\")\n",
        "\n",
        "EPOCHS = 120\n",
        "from sklearn.model_selection import train_test_split\n",
        "(trainX, testX, trainY, testY) = train_test_split(X_n,y_n, test_size=0.2, random_state=42,shuffle=True)\n",
        "\n",
        "EPOCHS = 75\n",
        "INIT_LR = 1e-3\n",
        "BS = 32\n",
        "opt = Adam(lr=INIT_LR, decay=INIT_LR / EPOCHS)\n"
      ],
      "execution_count": 0,
      "outputs": []
    },
    {
      "cell_type": "code",
      "metadata": {
        "id": "PSFGa9P5ts1Y",
        "colab_type": "code",
        "outputId": "cff53dba-f9e5-4e11-8bf0-584e5877d219",
        "colab": {
          "base_uri": "https://localhost:8080/",
          "height": 34
        }
      },
      "source": [
        "from keras.models import Sequential\n",
        "from keras.layers.normalization import BatchNormalization\n",
        "from keras.layers.convolutional import Conv2D\n",
        "from keras.layers.convolutional import MaxPooling2D\n",
        "from keras.layers.core import Activation\n",
        "from keras.layers.core import Flatten\n",
        "from keras.layers.core import Dropout\n",
        "from keras.layers.core import Dense\n",
        "from keras import backend as K\n",
        "\n",
        "\n",
        "model = Sequential()\n",
        "# CONV => RELU => POOL\n",
        "chanDim = -1\n",
        "# if we are using \"channels first\", update the input shape\n",
        "# and channels dimension\n",
        "if K.image_data_format() == \"channels_first\":\n",
        "  inputShape = (depth, height, width)\n",
        "  chanDim = 1\n",
        "model.add(Conv2D(32, (3, 3), padding=\"same\",input_shape=(96,96,3)))\n",
        "model.add(Activation(\"relu\"))\n",
        "model.add(BatchNormalization(axis=chanDim))\n",
        "model.add(MaxPooling2D(pool_size=(3, 3)))\n",
        "model.add(Dropout(0.25))\n",
        "  # (CONV => RELU) * 2 => POOL\n",
        "model.add(Conv2D(64, (3, 3), padding=\"same\"))\n",
        "model.add(Activation(\"relu\"))\n",
        "model.add(BatchNormalization(axis=chanDim))\n",
        "model.add(Conv2D(64, (3, 3), padding=\"same\"))\n",
        "model.add(Activation(\"relu\"))\n",
        "model.add(BatchNormalization(axis=chanDim))\n",
        "model.add(MaxPooling2D(pool_size=(2, 2)))\n",
        "model.add(Dropout(0.25))\n",
        "# (CONV => RELU) * 2 => POOL\n",
        "model.add(Conv2D(128, (3, 3), padding=\"same\"))\n",
        "model.add(Activation(\"relu\"))\n",
        "model.add(BatchNormalization(axis=chanDim))\n",
        "model.add(Conv2D(128, (3, 3), padding=\"same\"))\n",
        "model.add(Activation(\"relu\"))\n",
        "model.add(BatchNormalization(axis=chanDim))\n",
        "model.add(MaxPooling2D(pool_size=(2, 2)))\n",
        "model.add(Dropout(0.25))\n",
        "# first (and only) set of FC => RELU layers\n",
        "model.add(Flatten())\n",
        "model.add(Dense(1024))\n",
        "model.add(Activation(\"relu\"))\n",
        "model.add(BatchNormalization())\n",
        "model.add(Dropout(0.5))\n",
        "# use a *softmax* activation for single-label classification\n",
        "# and *sigmoid* activation for multi-label classification\n",
        "model.add(Dense(output_dim = 5, activation = 'softmax'))\n"
      ],
      "execution_count": 0,
      "outputs": [
        {
          "output_type": "stream",
          "text": [
            "/usr/local/lib/python3.6/dist-packages/ipykernel_launcher.py:51: UserWarning: Update your `Dense` call to the Keras 2 API: `Dense(activation=\"softmax\", units=5)`\n"
          ],
          "name": "stderr"
        }
      ]
    },
    {
      "cell_type": "code",
      "metadata": {
        "id": "oywKU8RYvMZJ",
        "colab_type": "code",
        "colab": {}
      },
      "source": [
        "model.compile(loss='sparse_categorical_crossentropy', optimizer=opt,\n",
        "\tmetrics=[\"accuracy\"])"
      ],
      "execution_count": 0,
      "outputs": []
    },
    {
      "cell_type": "code",
      "metadata": {
        "id": "vcJ9U4o61I9g",
        "colab_type": "code",
        "colab": {}
      },
      "source": [
        "from keras.callbacks import ModelCheckpoint\n",
        "from keras.callbacks import EarlyStopping\n",
        "from keras.callbacks import ReduceLROnPlateau\n"
      ],
      "execution_count": 0,
      "outputs": []
    },
    {
      "cell_type": "code",
      "metadata": {
        "id": "6PM3hdwGuUZm",
        "colab_type": "code",
        "colab": {}
      },
      "source": [
        "file_path=\"/content/drive/My Drive/recognizance2/win_bkr_ps2vggnet.h5\"\n",
        "checkpoint = ModelCheckpoint(file_path, monitor='val_accuracy', verbose=1, save_best_only=True, mode='max')\n",
        "early = EarlyStopping(monitor = \"val_accuracy\", mode = \"max\", patience = 25)\n",
        "learning_rate_reduction = ReduceLROnPlateau(monitor='val_accuracy', \n",
        "                                            patience=2, \n",
        "                                            verbose=1, \n",
        "                                           factor=0.5, \n",
        "                                           min_lr=0.00002)\n",
        "callbacks_list = [checkpoint,early,learning_rate_reduction]"
      ],
      "execution_count": 0,
      "outputs": []
    },
    {
      "cell_type": "code",
      "metadata": {
        "id": "15Tmb6Nkvyij",
        "colab_type": "code",
        "outputId": "75475ce3-a67d-4f94-bec7-4ae7e2d4f9ef",
        "colab": {
          "base_uri": "https://localhost:8080/",
          "height": 1000
        }
      },
      "source": [
        "\tH = model.fit_generator(\n",
        "\taug.flow(trainX, trainY, batch_size=BS),\n",
        "\tvalidation_data=(testX, testY),\n",
        "\tsteps_per_epoch=len(trainX) // BS,\n",
        "\tepochs=EPOCHS, verbose=1,callbacks = callbacks_list)"
      ],
      "execution_count": 0,
      "outputs": [
        {
          "output_type": "stream",
          "text": [
            "Epoch 1/75\n",
            "245/245 [==============================] - 156s 636ms/step - loss: 0.7905 - accuracy: 0.6992 - val_loss: 0.6585 - val_accuracy: 0.7740\n",
            "\n",
            "Epoch 00001: val_accuracy improved from -inf to 0.77398, saving model to /content/drive/My Drive/recognizance2/win_bkr_ps2vggnet.h5\n",
            "Epoch 2/75\n",
            "245/245 [==============================] - 154s 628ms/step - loss: 0.7533 - accuracy: 0.7167 - val_loss: 0.7647 - val_accuracy: 0.7097\n",
            "\n",
            "Epoch 00002: val_accuracy did not improve from 0.77398\n",
            "Epoch 3/75\n",
            "245/245 [==============================] - 152s 619ms/step - loss: 0.7108 - accuracy: 0.7325 - val_loss: 0.5910 - val_accuracy: 0.7857\n",
            "\n",
            "Epoch 00003: val_accuracy improved from 0.77398 to 0.78571, saving model to /content/drive/My Drive/recognizance2/win_bkr_ps2vggnet.h5\n",
            "Epoch 4/75\n",
            "245/245 [==============================] - 156s 638ms/step - loss: 0.6438 - accuracy: 0.7566 - val_loss: 0.5538 - val_accuracy: 0.7929\n",
            "\n",
            "Epoch 00004: val_accuracy improved from 0.78571 to 0.79286, saving model to /content/drive/My Drive/recognizance2/win_bkr_ps2vggnet.h5\n",
            "Epoch 5/75\n",
            "245/245 [==============================] - 151s 618ms/step - loss: 0.6303 - accuracy: 0.7624 - val_loss: 0.6501 - val_accuracy: 0.7714\n",
            "\n",
            "Epoch 00005: val_accuracy did not improve from 0.79286\n",
            "Epoch 6/75\n",
            "245/245 [==============================] - 152s 620ms/step - loss: 0.6432 - accuracy: 0.7619 - val_loss: 0.5810 - val_accuracy: 0.7857\n",
            "\n",
            "Epoch 00006: val_accuracy did not improve from 0.79286\n",
            "\n",
            "Epoch 00006: ReduceLROnPlateau reducing learning rate to 0.0005000000237487257.\n",
            "Epoch 7/75\n",
            "245/245 [==============================] - 152s 620ms/step - loss: 0.4855 - accuracy: 0.8300 - val_loss: 0.4163 - val_accuracy: 0.8495\n",
            "\n",
            "Epoch 00007: val_accuracy improved from 0.79286 to 0.84949, saving model to /content/drive/My Drive/recognizance2/win_bkr_ps2vggnet.h5\n",
            "Epoch 8/75\n",
            "245/245 [==============================] - 156s 638ms/step - loss: 0.4322 - accuracy: 0.8441 - val_loss: 0.3106 - val_accuracy: 0.8969\n",
            "\n",
            "Epoch 00008: val_accuracy improved from 0.84949 to 0.89694, saving model to /content/drive/My Drive/recognizance2/win_bkr_ps2vggnet.h5\n",
            "Epoch 9/75\n",
            "245/245 [==============================] - 152s 621ms/step - loss: 0.4123 - accuracy: 0.8473 - val_loss: 0.3342 - val_accuracy: 0.8852\n",
            "\n",
            "Epoch 00009: val_accuracy did not improve from 0.89694\n",
            "Epoch 10/75\n",
            "245/245 [==============================] - 154s 630ms/step - loss: 0.3836 - accuracy: 0.8620 - val_loss: 0.3269 - val_accuracy: 0.8832\n",
            "\n",
            "Epoch 00010: val_accuracy did not improve from 0.89694\n",
            "\n",
            "Epoch 00010: ReduceLROnPlateau reducing learning rate to 0.0002500000118743628.\n",
            "Epoch 11/75\n",
            "245/245 [==============================] - 152s 621ms/step - loss: 0.3226 - accuracy: 0.8846 - val_loss: 0.2613 - val_accuracy: 0.9173\n",
            "\n",
            "Epoch 00011: val_accuracy improved from 0.89694 to 0.91735, saving model to /content/drive/My Drive/recognizance2/win_bkr_ps2vggnet.h5\n",
            "Epoch 12/75\n",
            "245/245 [==============================] - 156s 639ms/step - loss: 0.3142 - accuracy: 0.8864 - val_loss: 0.2322 - val_accuracy: 0.9173\n",
            "\n",
            "Epoch 00012: val_accuracy did not improve from 0.91735\n",
            "Epoch 13/75\n",
            "245/245 [==============================] - 153s 625ms/step - loss: 0.2951 - accuracy: 0.8969 - val_loss: 0.2348 - val_accuracy: 0.9194\n",
            "\n",
            "Epoch 00013: val_accuracy improved from 0.91735 to 0.91939, saving model to /content/drive/My Drive/recognizance2/win_bkr_ps2vggnet.h5\n",
            "Epoch 14/75\n",
            "245/245 [==============================] - 154s 627ms/step - loss: 0.2764 - accuracy: 0.8997 - val_loss: 0.2245 - val_accuracy: 0.9224\n",
            "\n",
            "Epoch 00014: val_accuracy improved from 0.91939 to 0.92245, saving model to /content/drive/My Drive/recognizance2/win_bkr_ps2vggnet.h5\n",
            "Epoch 15/75\n",
            "245/245 [==============================] - 154s 630ms/step - loss: 0.2712 - accuracy: 0.9008 - val_loss: 0.2166 - val_accuracy: 0.9301\n",
            "\n",
            "Epoch 00015: val_accuracy improved from 0.92245 to 0.93010, saving model to /content/drive/My Drive/recognizance2/win_bkr_ps2vggnet.h5\n",
            "Epoch 16/75\n",
            "245/245 [==============================] - 156s 638ms/step - loss: 0.2495 - accuracy: 0.9138 - val_loss: 0.2322 - val_accuracy: 0.9235\n",
            "\n",
            "Epoch 00016: val_accuracy did not improve from 0.93010\n",
            "Epoch 17/75\n",
            "245/245 [==============================] - 152s 620ms/step - loss: 0.2466 - accuracy: 0.9140 - val_loss: 0.2029 - val_accuracy: 0.9327\n",
            "\n",
            "Epoch 00017: val_accuracy improved from 0.93010 to 0.93265, saving model to /content/drive/My Drive/recognizance2/win_bkr_ps2vggnet.h5\n",
            "Epoch 18/75\n",
            "245/245 [==============================] - 154s 627ms/step - loss: 0.2408 - accuracy: 0.9148 - val_loss: 0.1990 - val_accuracy: 0.9311\n",
            "\n",
            "Epoch 00018: val_accuracy did not improve from 0.93265\n",
            "Epoch 19/75\n",
            "245/245 [==============================] - 155s 632ms/step - loss: 0.2228 - accuracy: 0.9203 - val_loss: 0.1932 - val_accuracy: 0.9367\n",
            "\n",
            "Epoch 00019: val_accuracy improved from 0.93265 to 0.93673, saving model to /content/drive/My Drive/recognizance2/win_bkr_ps2vggnet.h5\n",
            "Epoch 20/75\n",
            "245/245 [==============================] - 155s 632ms/step - loss: 0.2278 - accuracy: 0.9187 - val_loss: 0.1709 - val_accuracy: 0.9429\n",
            "\n",
            "Epoch 00020: val_accuracy improved from 0.93673 to 0.94286, saving model to /content/drive/My Drive/recognizance2/win_bkr_ps2vggnet.h5\n",
            "Epoch 21/75\n",
            "245/245 [==============================] - 153s 623ms/step - loss: 0.2252 - accuracy: 0.9203 - val_loss: 0.2107 - val_accuracy: 0.9260\n",
            "\n",
            "Epoch 00021: val_accuracy did not improve from 0.94286\n",
            "Epoch 22/75\n",
            "245/245 [==============================] - 153s 624ms/step - loss: 0.2171 - accuracy: 0.9226 - val_loss: 0.1742 - val_accuracy: 0.9418\n",
            "\n",
            "Epoch 00022: val_accuracy did not improve from 0.94286\n",
            "\n",
            "Epoch 00022: ReduceLROnPlateau reducing learning rate to 0.0001250000059371814.\n",
            "Epoch 23/75\n",
            "245/245 [==============================] - 159s 650ms/step - loss: 0.1963 - accuracy: 0.9295 - val_loss: 0.1542 - val_accuracy: 0.9495\n",
            "\n",
            "Epoch 00023: val_accuracy improved from 0.94286 to 0.94949, saving model to /content/drive/My Drive/recognizance2/win_bkr_ps2vggnet.h5\n",
            "Epoch 24/75\n",
            "245/245 [==============================] - 156s 636ms/step - loss: 0.1748 - accuracy: 0.9376 - val_loss: 0.1388 - val_accuracy: 0.9566\n",
            "\n",
            "Epoch 00024: val_accuracy improved from 0.94949 to 0.95663, saving model to /content/drive/My Drive/recognizance2/win_bkr_ps2vggnet.h5\n",
            "Epoch 25/75\n",
            "245/245 [==============================] - 156s 637ms/step - loss: 0.1740 - accuracy: 0.9381 - val_loss: 0.1382 - val_accuracy: 0.9551\n",
            "\n",
            "Epoch 00025: val_accuracy did not improve from 0.95663\n",
            "Epoch 26/75\n",
            "245/245 [==============================] - 153s 625ms/step - loss: 0.1678 - accuracy: 0.9443 - val_loss: 0.1468 - val_accuracy: 0.9515\n",
            "\n",
            "Epoch 00026: val_accuracy did not improve from 0.95663\n",
            "\n",
            "Epoch 00026: ReduceLROnPlateau reducing learning rate to 6.25000029685907e-05.\n",
            "Epoch 27/75\n",
            "245/245 [==============================] - 156s 636ms/step - loss: 0.1610 - accuracy: 0.9440 - val_loss: 0.1229 - val_accuracy: 0.9592\n",
            "\n",
            "Epoch 00027: val_accuracy improved from 0.95663 to 0.95918, saving model to /content/drive/My Drive/recognizance2/win_bkr_ps2vggnet.h5\n",
            "Epoch 28/75\n",
            "245/245 [==============================] - 155s 632ms/step - loss: 0.1547 - accuracy: 0.9454 - val_loss: 0.1307 - val_accuracy: 0.9566\n",
            "\n",
            "Epoch 00028: val_accuracy did not improve from 0.95918\n",
            "Epoch 29/75\n",
            "245/245 [==============================] - 153s 623ms/step - loss: 0.1572 - accuracy: 0.9466 - val_loss: 0.1253 - val_accuracy: 0.9577\n",
            "\n",
            "Epoch 00029: val_accuracy did not improve from 0.95918\n",
            "\n",
            "Epoch 00029: ReduceLROnPlateau reducing learning rate to 3.125000148429535e-05.\n",
            "Epoch 30/75\n",
            "245/245 [==============================] - 154s 628ms/step - loss: 0.1553 - accuracy: 0.9472 - val_loss: 0.1268 - val_accuracy: 0.9561\n",
            "\n",
            "Epoch 00030: val_accuracy did not improve from 0.95918\n",
            "Epoch 31/75\n",
            "245/245 [==============================] - 157s 641ms/step - loss: 0.1532 - accuracy: 0.9444 - val_loss: 0.1138 - val_accuracy: 0.9622\n",
            "\n",
            "Epoch 00031: val_accuracy improved from 0.95918 to 0.96224, saving model to /content/drive/My Drive/recognizance2/win_bkr_ps2vggnet.h5\n",
            "Epoch 32/75\n",
            "245/245 [==============================] - 153s 625ms/step - loss: 0.1375 - accuracy: 0.9523 - val_loss: 0.1232 - val_accuracy: 0.9597\n",
            "\n",
            "Epoch 00032: val_accuracy did not improve from 0.96224\n",
            "Epoch 33/75\n",
            "245/245 [==============================] - 152s 622ms/step - loss: 0.1384 - accuracy: 0.9543 - val_loss: 0.1200 - val_accuracy: 0.9602\n",
            "\n",
            "Epoch 00033: val_accuracy did not improve from 0.96224\n",
            "\n",
            "Epoch 00033: ReduceLROnPlateau reducing learning rate to 2e-05.\n",
            "Epoch 34/75\n",
            "245/245 [==============================] - 154s 630ms/step - loss: 0.1412 - accuracy: 0.9511 - val_loss: 0.1193 - val_accuracy: 0.9607\n",
            "\n",
            "Epoch 00034: val_accuracy did not improve from 0.96224\n",
            "Epoch 35/75\n",
            "245/245 [==============================] - 155s 632ms/step - loss: 0.1465 - accuracy: 0.9510 - val_loss: 0.1149 - val_accuracy: 0.9602\n",
            "\n",
            "Epoch 00035: val_accuracy did not improve from 0.96224\n",
            "Epoch 36/75\n",
            "245/245 [==============================] - 153s 623ms/step - loss: 0.1326 - accuracy: 0.9547 - val_loss: 0.1160 - val_accuracy: 0.9628\n",
            "\n",
            "Epoch 00036: val_accuracy improved from 0.96224 to 0.96276, saving model to /content/drive/My Drive/recognizance2/win_bkr_ps2vggnet.h5\n",
            "Epoch 37/75\n",
            "245/245 [==============================] - 153s 623ms/step - loss: 0.1370 - accuracy: 0.9538 - val_loss: 0.1186 - val_accuracy: 0.9607\n",
            "\n",
            "Epoch 00037: val_accuracy did not improve from 0.96276\n",
            "Epoch 38/75\n",
            "245/245 [==============================] - 152s 622ms/step - loss: 0.1351 - accuracy: 0.9545 - val_loss: 0.1150 - val_accuracy: 0.9617\n",
            "\n",
            "Epoch 00038: val_accuracy did not improve from 0.96276\n",
            "Epoch 39/75\n",
            "245/245 [==============================] - 158s 643ms/step - loss: 0.1332 - accuracy: 0.9534 - val_loss: 0.1227 - val_accuracy: 0.9597\n",
            "\n",
            "Epoch 00039: val_accuracy did not improve from 0.96276\n",
            "Epoch 40/75\n",
            "245/245 [==============================] - 154s 629ms/step - loss: 0.1348 - accuracy: 0.9538 - val_loss: 0.1164 - val_accuracy: 0.9628\n",
            "\n",
            "Epoch 00040: val_accuracy did not improve from 0.96276\n",
            "Epoch 41/75\n",
            "245/245 [==============================] - 152s 620ms/step - loss: 0.1346 - accuracy: 0.9524 - val_loss: 0.1153 - val_accuracy: 0.9612\n",
            "\n",
            "Epoch 00041: val_accuracy did not improve from 0.96276\n",
            "Epoch 42/75\n",
            "245/245 [==============================] - 151s 618ms/step - loss: 0.1259 - accuracy: 0.9571 - val_loss: 0.1174 - val_accuracy: 0.9607\n",
            "\n",
            "Epoch 00042: val_accuracy did not improve from 0.96276\n",
            "Epoch 43/75\n",
            "245/245 [==============================] - 155s 631ms/step - loss: 0.1334 - accuracy: 0.9551 - val_loss: 0.1159 - val_accuracy: 0.9612\n",
            "\n",
            "Epoch 00043: val_accuracy did not improve from 0.96276\n",
            "Epoch 44/75\n",
            "245/245 [==============================] - 154s 627ms/step - loss: 0.1335 - accuracy: 0.9559 - val_loss: 0.1126 - val_accuracy: 0.9597\n",
            "\n",
            "Epoch 00044: val_accuracy did not improve from 0.96276\n",
            "Epoch 45/75\n",
            "245/245 [==============================] - 154s 628ms/step - loss: 0.1374 - accuracy: 0.9531 - val_loss: 0.1118 - val_accuracy: 0.9617\n",
            "\n",
            "Epoch 00045: val_accuracy did not improve from 0.96276\n",
            "Epoch 46/75\n",
            "245/245 [==============================] - 156s 635ms/step - loss: 0.1283 - accuracy: 0.9575 - val_loss: 0.1161 - val_accuracy: 0.9597\n",
            "\n",
            "Epoch 00046: val_accuracy did not improve from 0.96276\n",
            "Epoch 47/75\n",
            "245/245 [==============================] - 158s 646ms/step - loss: 0.1200 - accuracy: 0.9594 - val_loss: 0.1121 - val_accuracy: 0.9617\n",
            "\n",
            "Epoch 00047: val_accuracy did not improve from 0.96276\n",
            "Epoch 48/75\n",
            "245/245 [==============================] - 155s 633ms/step - loss: 0.1328 - accuracy: 0.9551 - val_loss: 0.1115 - val_accuracy: 0.9622\n",
            "\n",
            "Epoch 00048: val_accuracy did not improve from 0.96276\n",
            "Epoch 49/75\n",
            "245/245 [==============================] - 155s 631ms/step - loss: 0.1287 - accuracy: 0.9551 - val_loss: 0.1150 - val_accuracy: 0.9602\n",
            "\n",
            "Epoch 00049: val_accuracy did not improve from 0.96276\n",
            "Epoch 50/75\n",
            "245/245 [==============================] - 152s 620ms/step - loss: 0.1273 - accuracy: 0.9577 - val_loss: 0.1076 - val_accuracy: 0.9648\n",
            "\n",
            "Epoch 00050: val_accuracy improved from 0.96276 to 0.96480, saving model to /content/drive/My Drive/recognizance2/win_bkr_ps2vggnet.h5\n",
            "Epoch 51/75\n",
            "245/245 [==============================] - 156s 638ms/step - loss: 0.1278 - accuracy: 0.9560 - val_loss: 0.1088 - val_accuracy: 0.9602\n",
            "\n",
            "Epoch 00051: val_accuracy did not improve from 0.96480\n",
            "Epoch 52/75\n",
            "245/245 [==============================] - 153s 623ms/step - loss: 0.1297 - accuracy: 0.9573 - val_loss: 0.1097 - val_accuracy: 0.9607\n",
            "\n",
            "Epoch 00052: val_accuracy did not improve from 0.96480\n",
            "Epoch 53/75\n",
            "245/245 [==============================] - 153s 626ms/step - loss: 0.1239 - accuracy: 0.9592 - val_loss: 0.1085 - val_accuracy: 0.9648\n",
            "\n",
            "Epoch 00053: val_accuracy did not improve from 0.96480\n",
            "Epoch 54/75\n",
            "245/245 [==============================] - 154s 627ms/step - loss: 0.1249 - accuracy: 0.9555 - val_loss: 0.1115 - val_accuracy: 0.9602\n",
            "\n",
            "Epoch 00054: val_accuracy did not improve from 0.96480\n",
            "Epoch 55/75\n",
            "245/245 [==============================] - 157s 642ms/step - loss: 0.1316 - accuracy: 0.9515 - val_loss: 0.1059 - val_accuracy: 0.9628\n",
            "\n",
            "Epoch 00055: val_accuracy did not improve from 0.96480\n",
            "Epoch 56/75\n",
            "245/245 [==============================] - 154s 627ms/step - loss: 0.1154 - accuracy: 0.9605 - val_loss: 0.1135 - val_accuracy: 0.9597\n",
            "\n",
            "Epoch 00056: val_accuracy did not improve from 0.96480\n",
            "Epoch 57/75\n",
            "245/245 [==============================] - 152s 621ms/step - loss: 0.1257 - accuracy: 0.9574 - val_loss: 0.1096 - val_accuracy: 0.9622\n",
            "\n",
            "Epoch 00057: val_accuracy did not improve from 0.96480\n",
            "Epoch 58/75\n",
            "245/245 [==============================] - 153s 626ms/step - loss: 0.1294 - accuracy: 0.9560 - val_loss: 0.1060 - val_accuracy: 0.9643\n",
            "\n",
            "Epoch 00058: val_accuracy did not improve from 0.96480\n",
            "Epoch 59/75\n",
            "245/245 [==============================] - 155s 631ms/step - loss: 0.1203 - accuracy: 0.9573 - val_loss: 0.1079 - val_accuracy: 0.9633\n",
            "\n",
            "Epoch 00059: val_accuracy did not improve from 0.96480\n",
            "Epoch 60/75\n",
            "245/245 [==============================] - 154s 628ms/step - loss: 0.1290 - accuracy: 0.9589 - val_loss: 0.1091 - val_accuracy: 0.9628\n",
            "\n",
            "Epoch 00060: val_accuracy did not improve from 0.96480\n",
            "Epoch 61/75\n",
            "245/245 [==============================] - 154s 630ms/step - loss: 0.1277 - accuracy: 0.9566 - val_loss: 0.1062 - val_accuracy: 0.9612\n",
            "\n",
            "Epoch 00061: val_accuracy did not improve from 0.96480\n",
            "Epoch 62/75\n",
            "245/245 [==============================] - 152s 621ms/step - loss: 0.1217 - accuracy: 0.9565 - val_loss: 0.1066 - val_accuracy: 0.9612\n",
            "\n",
            "Epoch 00062: val_accuracy did not improve from 0.96480\n",
            "Epoch 63/75\n",
            "245/245 [==============================] - 156s 635ms/step - loss: 0.1144 - accuracy: 0.9621 - val_loss: 0.1162 - val_accuracy: 0.9592\n",
            "\n",
            "Epoch 00063: val_accuracy did not improve from 0.96480\n",
            "Epoch 64/75\n",
            "245/245 [==============================] - 153s 626ms/step - loss: 0.1110 - accuracy: 0.9621 - val_loss: 0.1084 - val_accuracy: 0.9622\n",
            "\n",
            "Epoch 00064: val_accuracy did not improve from 0.96480\n",
            "Epoch 65/75\n",
            "245/245 [==============================] - 153s 623ms/step - loss: 0.1215 - accuracy: 0.9577 - val_loss: 0.1138 - val_accuracy: 0.9602\n",
            "\n",
            "Epoch 00065: val_accuracy did not improve from 0.96480\n",
            "Epoch 66/75\n",
            "245/245 [==============================] - 152s 620ms/step - loss: 0.1186 - accuracy: 0.9561 - val_loss: 0.1087 - val_accuracy: 0.9633\n",
            "\n",
            "Epoch 00066: val_accuracy did not improve from 0.96480\n",
            "Epoch 67/75\n",
            "245/245 [==============================] - 157s 643ms/step - loss: 0.1144 - accuracy: 0.9624 - val_loss: 0.1097 - val_accuracy: 0.9617\n",
            "\n",
            "Epoch 00067: val_accuracy did not improve from 0.96480\n",
            "Epoch 68/75\n",
            "245/245 [==============================] - 152s 619ms/step - loss: 0.1221 - accuracy: 0.9566 - val_loss: 0.1080 - val_accuracy: 0.9622\n",
            "\n",
            "Epoch 00068: val_accuracy did not improve from 0.96480\n",
            "Epoch 69/75\n",
            "245/245 [==============================] - 153s 624ms/step - loss: 0.1231 - accuracy: 0.9556 - val_loss: 0.1078 - val_accuracy: 0.9633\n",
            "\n",
            "Epoch 00069: val_accuracy did not improve from 0.96480\n",
            "Epoch 70/75\n",
            "245/245 [==============================] - 159s 647ms/step - loss: 0.1131 - accuracy: 0.9610 - val_loss: 0.1072 - val_accuracy: 0.9633\n",
            "\n",
            "Epoch 00070: val_accuracy did not improve from 0.96480\n",
            "Epoch 71/75\n",
            "245/245 [==============================] - 164s 668ms/step - loss: 0.1081 - accuracy: 0.9635 - val_loss: 0.1090 - val_accuracy: 0.9612\n",
            "\n",
            "Epoch 00071: val_accuracy did not improve from 0.96480\n",
            "Epoch 72/75\n",
            "245/245 [==============================] - 155s 634ms/step - loss: 0.1318 - accuracy: 0.9568 - val_loss: 0.1090 - val_accuracy: 0.9638\n",
            "\n",
            "Epoch 00072: val_accuracy did not improve from 0.96480\n",
            "Epoch 73/75\n",
            "245/245 [==============================] - 154s 630ms/step - loss: 0.1253 - accuracy: 0.9546 - val_loss: 0.1102 - val_accuracy: 0.9633\n",
            "\n",
            "Epoch 00073: val_accuracy did not improve from 0.96480\n",
            "Epoch 74/75\n",
            "245/245 [==============================] - 155s 633ms/step - loss: 0.1194 - accuracy: 0.9611 - val_loss: 0.1093 - val_accuracy: 0.9643\n",
            "\n",
            "Epoch 00074: val_accuracy did not improve from 0.96480\n",
            "Epoch 75/75\n",
            "245/245 [==============================] - 157s 642ms/step - loss: 0.1202 - accuracy: 0.9564 - val_loss: 0.1085 - val_accuracy: 0.9628\n",
            "\n",
            "Epoch 00075: val_accuracy did not improve from 0.96480\n"
          ],
          "name": "stdout"
        }
      ]
    },
    {
      "cell_type": "code",
      "metadata": {
        "id": "1Fm0nqq01LpT",
        "colab_type": "code",
        "colab": {}
      },
      "source": [
        ""
      ],
      "execution_count": 0,
      "outputs": []
    },
    {
      "cell_type": "markdown",
      "metadata": {
        "id": "mqvlA2g48PjK",
        "colab_type": "text"
      },
      "source": [
        ""
      ]
    }
  ]
}